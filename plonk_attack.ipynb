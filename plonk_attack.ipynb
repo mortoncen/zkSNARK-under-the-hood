{
 "cells": [
  {
   "cell_type": "code",
   "execution_count": 8,
   "metadata": {},
   "outputs": [
    {
     "name": "stdout",
     "output_type": "stream",
     "text": [
      "{'A': GF(219, order=241), 'B': GF(14, order=241), 'C': GF(167, order=241), 'Z': GF(72, order=241), 'Tl': GF(94, order=241), 'Tm': GF(36, order=241), 'Th': GF(156, order=241), 'Wzeta': GF(225, order=241), 'Womega_zeta': GF(34, order=241), 'a_zeta': GF(147, order=241), 'b_zeta': GF(239, order=241), 'c_zeta': GF(196, order=241), 's1_zeta': GF(160, order=241), 's2_zeta': GF(46, order=241), 'z_omega_zeta': GF(221, order=241)}\n"
     ]
    }
   ],
   "source": [
    "import json\n",
    "import galois\n",
    "\n",
    "import sha3\n",
    "\n",
    "def numbers_to_hash(numbers, field) -> int:\n",
    "    \"\"\"Hash a number.\"\"\"\n",
    "    engine = sha3.keccak_256()\n",
    "    for number in numbers:\n",
    "        if isinstance(number, tuple):\n",
    "            x, y, z = number\n",
    "            engine.update(bytes(hex(int(x)), 'utf-8'))\n",
    "            engine.update(bytes(hex(int(y)), 'utf-8'))\n",
    "            engine.update(bytes(hex(int(z)), 'utf-8'))\n",
    "        else:\n",
    "            engine.update(bytes(hex(int(number)), 'utf-8'))\n",
    "    return field(int(engine.hexdigest(), 16) % field.order)\n",
    "\n",
    "encrypted = False\n",
    "\n",
    "proof = json.load(open(\"proof.json\", \"r\"))\n",
    "p = proof.pop(\"Fp\")\n",
    "\n",
    "Fp = galois.GF(p)\n",
    "\n",
    "proof = {k: Fp(v) for k, v in proof.items()}\n",
    "print(proof)\n",
    "\n",
    "circuit = json.load(open(\"circuit.json\", \"r\"))\n",
    "circuit.pop(\"Fp\")\n",
    "for k, v in circuit.items():\n",
    "    if k in [\"tau\", \"k1\", \"k2\", \"Fp\", \"omega\", \"n\"]:\n",
    "        circuit[k] = Fp(v)\n",
    "    else:\n",
    "        circuit[k] = galois.Poly(coeffs=v, field=Fp)\n",
    "\n",
    "QM = circuit[\"QM\"]\n",
    "QL = circuit[\"QL\"]\n",
    "QR = circuit[\"QR\"]\n",
    "QO = circuit[\"QO\"]\n",
    "QC = circuit[\"QC\"]\n",
    "S1 = circuit[\"S1\"]\n",
    "S2 = circuit[\"S2\"]\n",
    "S3 = circuit[\"S3\"]\n",
    "Zh = circuit[\"Zh\"]\n",
    "L1 = circuit[\"L1\"]\n",
    "PI = circuit[\"PI\"]\n",
    "tau = circuit[\"tau\"]\n",
    "k1 = circuit[\"k1\"]\n",
    "k2 = circuit[\"k2\"]\n",
    "n = int(circuit[\"n\"])\n",
    "omega = circuit[\"omega\"]\n",
    "\n",
    "round1 = [proof[\"A\"], proof[\"B\"], proof[\"C\"]]\n",
    "round2 = [proof[\"Z\"]]\n",
    "round3 = [proof[\"Tl\"], proof[\"Tm\"], proof[\"Th\"]]\n",
    "round4 = [proof[\"a_zeta\"], proof[\"b_zeta\"], proof[\"c_zeta\"], proof[\"s1_zeta\"], proof[\"s2_zeta\"], proof[\"z_omega_zeta\"]]\n",
    "round5 = [proof[\"Wzeta\"], proof[\"Womega_zeta\"]]"
   ]
  },
  {
   "cell_type": "markdown",
   "metadata": {},
   "source": [
    "# Verifier"
   ]
  },
  {
   "cell_type": "code",
   "execution_count": 9,
   "metadata": {},
   "outputs": [],
   "source": [
    "# These evaluations are calculated beforehand during the setup phase\n",
    "qm_exp = QM(tau)\n",
    "ql_exp = QL(tau)\n",
    "qr_exp = QR(tau)\n",
    "qo_exp = QO(tau)\n",
    "qc_exp = QC(tau)\n",
    "s1_exp = S1(tau)\n",
    "s2_exp = S2(tau)\n",
    "s3_exp = S3(tau)\n",
    "\n",
    "# Values provided by the prover (round 1 to 5) is a proof.\n",
    "a_exp = round1[0]\n",
    "b_exp = round1[1]\n",
    "c_exp = round1[2]\n",
    "\n",
    "z_exp = round2[0]\n",
    "\n",
    "tl_exp = round3[0]\n",
    "tm_exp = round3[1]\n",
    "th_exp = round3[2]\n",
    "\n",
    "# Note: verifier has to verify that the following values are in the correct Fp field\n",
    "a_zeta, b_zeta, c_zeta, s1_zeta, s2_zeta, z_omega_zeta = round4\n",
    "a_zeta = a_zeta + Fp(1)\n",
    "\n",
    "w_zeta_exp = round5[0]\n",
    "w_omega_zeta_exp = round5[1]\n",
    "\n",
    "# Note: verifier has to verify that the following values are on the curve\n",
    "if encrypted:\n",
    "    validate_point(qm_exp)\n",
    "    validate_point(ql_exp)\n",
    "    validate_point(qr_exp)\n",
    "    validate_point(qo_exp)\n",
    "    validate_point(qc_exp)\n",
    "    validate_point(z_exp)\n",
    "    validate_point(s1_exp)\n",
    "    validate_point(s2_exp)\n",
    "    validate_point(s3_exp)\n",
    "    validate_point(tl_exp)\n",
    "    validate_point(tm_exp)\n",
    "    validate_point(th_exp)\n",
    "    validate_point(a_exp)\n",
    "    validate_point(b_exp)\n",
    "    validate_point(c_exp)\n",
    "    validate_point(w_zeta_exp)\n",
    "    validate_point(w_omega_zeta_exp)\n",
    "\n",
    "beta = numbers_to_hash(round1 + [0], Fp)\n",
    "gamma = numbers_to_hash(round1 + [1], Fp)\n",
    "alpha = numbers_to_hash(round1 + round2, Fp)\n",
    "zeta = numbers_to_hash(round1 + round2 + round3, Fp)\n",
    "v = numbers_to_hash(round1 + round2 + round3 + round4, Fp)\n",
    "u = numbers_to_hash(round1 + round2 + round3 + round4 + round5, Fp)"
   ]
  },
  {
   "cell_type": "code",
   "execution_count": 10,
   "metadata": {},
   "outputs": [],
   "source": [
    "Zh_z = Zh(zeta)\n",
    "L1_z = L1(zeta)\n",
    "PI_z = PI(zeta)\n",
    "\n",
    "r0 = (PI_z - L1_z * alpha**2 -\n",
    "    (a_zeta + beta * s1_zeta + gamma) *\n",
    "    (b_zeta + beta * s2_zeta + gamma) *\n",
    "    (c_zeta + gamma) * z_omega_zeta * alpha)"
   ]
  },
  {
   "cell_type": "code",
   "execution_count": 11,
   "metadata": {},
   "outputs": [],
   "source": [
    "D_exp = (qm_exp * a_zeta * b_zeta +\n",
    "        ql_exp * a_zeta +\n",
    "        qr_exp * b_zeta +\n",
    "        qo_exp * c_zeta +\n",
    "        qc_exp)\n",
    "\n",
    "D_exp += (z_exp * (\n",
    "        (a_zeta + beta * zeta + gamma) *\n",
    "        (b_zeta + beta * zeta * k1 + gamma) *\n",
    "        (c_zeta + beta * zeta * k2 + gamma) * alpha\n",
    "        + L1_z * alpha**2 + u))\n",
    "\n",
    "D_exp -= (s3_exp *\n",
    "        (a_zeta + beta * s1_zeta + gamma) *\n",
    "        (b_zeta + beta * s2_zeta + gamma) * \n",
    "        alpha * beta * z_omega_zeta)\n",
    "\n",
    "D_exp -= ((tl_exp + \n",
    "        tm_exp * zeta**n  +\n",
    "        th_exp * zeta**(2*n)) *\n",
    "        Zh_z)"
   ]
  },
  {
   "cell_type": "code",
   "execution_count": 12,
   "metadata": {},
   "outputs": [
    {
     "name": "stdout",
     "output_type": "stream",
     "text": [
      "F_exp = 43\n"
     ]
    }
   ],
   "source": [
    "F_exp = (D_exp + \n",
    "        a_exp * v +\n",
    "        b_exp * v**2 +\n",
    "        c_exp * v**3 +\n",
    "        s1_exp * v**4 +\n",
    "        s2_exp * v**5)\n",
    "\n",
    "print(f\"F_exp = {F_exp}\")"
   ]
  },
  {
   "cell_type": "code",
   "execution_count": 13,
   "metadata": {},
   "outputs": [
    {
     "name": "stdout",
     "output_type": "stream",
     "text": [
      "E_exp = 132\n"
     ]
    }
   ],
   "source": [
    "E_exp = (-r0 +\n",
    "        v * a_zeta +\n",
    "        v**2 * b_zeta +\n",
    "        v**3 * c_zeta +\n",
    "        v**4 * s1_zeta +\n",
    "        v**5 * s2_zeta +\n",
    "        u * z_omega_zeta)\n",
    "\n",
    "if encrypted:\n",
    "        E_exp = G1 * E_exp\n",
    "\n",
    "print(f\"E_exp = {E_exp}\")"
   ]
  },
  {
   "cell_type": "code",
   "execution_count": 14,
   "metadata": {},
   "outputs": [
    {
     "name": "stdout",
     "output_type": "stream",
     "text": [
      "\n",
      "\n",
      "--- e1, e2 ---\n",
      "e1 = 47 = 209 * tau\n",
      "e2 = 131\n"
     ]
    },
    {
     "ename": "AssertionError",
     "evalue": "",
     "output_type": "error",
     "traceback": [
      "\u001b[0;31m---------------------------------------------------------------------------\u001b[0m",
      "\u001b[0;31mAssertionError\u001b[0m                            Traceback (most recent call last)",
      "\u001b[0;32m/var/folders/f3/3tlj199n1psgkyj3cc0_z_3h0000gn/T/ipykernel_29636/921425854.py\u001b[0m in \u001b[0;36m<cell line: 0>\u001b[0;34m()\u001b[0m\n\u001b[1;32m     15\u001b[0m     \u001b[0mprint\u001b[0m\u001b[0;34m(\u001b[0m\u001b[0;34mf\"e1 = {e1 * tau} = {e1} * tau\"\u001b[0m\u001b[0;34m)\u001b[0m\u001b[0;34m\u001b[0m\u001b[0;34m\u001b[0m\u001b[0m\n\u001b[1;32m     16\u001b[0m     \u001b[0mprint\u001b[0m\u001b[0;34m(\u001b[0m\u001b[0;34mf\"e2 = {e2}\"\u001b[0m\u001b[0;34m)\u001b[0m\u001b[0;34m\u001b[0m\u001b[0;34m\u001b[0m\u001b[0m\n\u001b[0;32m---> 17\u001b[0;31m     \u001b[0;32massert\u001b[0m \u001b[0me1\u001b[0m \u001b[0;34m*\u001b[0m \u001b[0mtau\u001b[0m \u001b[0;34m==\u001b[0m \u001b[0me2\u001b[0m\u001b[0;34m\u001b[0m\u001b[0;34m\u001b[0m\u001b[0m\n\u001b[0m",
      "\u001b[0;31mAssertionError\u001b[0m: "
     ]
    }
   ],
   "source": [
    "e1 = w_zeta_exp + w_omega_zeta_exp * u\n",
    "e2 = (w_zeta_exp * zeta + w_omega_zeta_exp * (u * zeta * omega) +\n",
    "    F_exp + (E_exp * Fp(p-1)))\n",
    "\n",
    "if encrypted:\n",
    "    pairing1 = tau.tau2.pair(e1)\n",
    "    pairing2 = G2.pair(e2)\n",
    "\n",
    "    print(f\"pairing1 = {pairing1}\")\n",
    "    print(f\"pairing2 = {pairing2}\")\n",
    "\n",
    "    assert pairing1 == pairing2, f\"pairing1 != pairing2\"\n",
    "else:\n",
    "    print(\"\\n\\n--- e1, e2 ---\")\n",
    "    print(f\"e1 = {e1 * tau} = {e1} * tau\")\n",
    "    print(f\"e2 = {e2}\")\n",
    "    assert e1 * tau == e2"
   ]
  },
  {
   "cell_type": "code",
   "execution_count": null,
   "metadata": {},
   "outputs": [],
   "source": [
    "from sympy import symbols, Eq, solve\n",
    "\n",
    "# Define the symbols\n",
    "X, Y = symbols('X Y')\n",
    "\n",
    "# Constants are assumed to be known and are represented as symbols for generality\n",
    "A, B, C, _u, z, w = symbols('A B C u z w')\n",
    "\n",
    "# Define the equations based on the provided system\n",
    "eq1 = Eq(X + _u*Y, A)\n",
    "eq2 = Eq(z * X + _u*z*w*Y + C, B)\n",
    "\n",
    "# Solve the system of equations\n",
    "solutions = solve((eq1, eq2), (X, Y))\n",
    "solutions\n",
    "\n",
    "_A = e1\n",
    "_B = e2\n",
    "_C = F_exp + (E_exp * Fp(p-1))\n",
    "# u = numbers_to_hash(round1 + round2 + round3 + round4 + round5, Fp)\n",
    "# u = Fp.Random()\n",
    "\n",
    "y = (_B - _C - _A * zeta) / (u * omega * zeta - u  *zeta)\n",
    "\n",
    "print(f\"y = {y}\")\n",
    "print(f\"w_omega_zeta_exp = {w_omega_zeta_exp}\")\n",
    "\n",
    "x = (_A* omega *zeta - _B + _C) / (omega * zeta - zeta)\n",
    "\n",
    "print(f\"x = {x}\")\n",
    "print(f\"w_zeta_exp = {w_zeta_exp}\")\n",
    "\n",
    "assert x == w_zeta_exp\n",
    "\n",
    "e1 = x + y * u\n",
    "e2 = (x * zeta + y * (u * zeta * omega) +\n",
    "    F_exp + (E_exp * Fp(p-1)))\n",
    "\n",
    "assert e1 * tau == e2"
   ]
  }
 ],
 "metadata": {
  "kernelspec": {
   "display_name": "Python 3",
   "language": "python",
   "name": "python3"
  },
  "language_info": {
   "codemirror_mode": {
    "name": "ipython",
    "version": 3
   },
   "file_extension": ".py",
   "mimetype": "text/x-python",
   "name": "python",
   "nbconvert_exporter": "python",
   "pygments_lexer": "ipython3",
   "version": "3.11.6"
  }
 },
 "nbformat": 4,
 "nbformat_minor": 2
}
